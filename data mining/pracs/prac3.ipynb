{
 "cells": [
  {
   "cell_type": "code",
   "execution_count": 20,
   "metadata": {},
   "outputs": [],
   "source": [
    "from sklearn.datasets import load_wine, load_iris\n",
    "from sklearn.preprocessing import StandardScaler\n",
    "import numpy as np\n",
    "import pandas as pd\n",
    "import matplotlib.pyplot as plt"
   ]
  },
  {
   "cell_type": "code",
   "execution_count": 21,
   "metadata": {},
   "outputs": [],
   "source": [
    "# Load the wine dataset\n",
    "wine_data = load_wine()\n",
    "wine_features = wine_data.data  # Features (attributes)\n",
    "wine_target = wine_data.target  # Target labels"
   ]
  },
  {
   "cell_type": "code",
   "execution_count": 22,
   "metadata": {},
   "outputs": [
    {
     "name": "stdout",
     "output_type": "stream",
     "text": [
      "Wine data standardized: False\n"
     ]
    }
   ],
   "source": [
    "is_wine_standardized = all(abs(np.mean(col)) < 1e-3 and abs(np.std(col) - 1) < 1e-3 for col in wine_features.T)\n",
    "print(\"Wine data standardized:\", is_wine_standardized)"
   ]
  },
  {
   "cell_type": "code",
   "execution_count": 23,
   "metadata": {},
   "outputs": [
    {
     "name": "stdout",
     "output_type": "stream",
     "text": [
      "std - 1.0\n",
      "std - 4.66735072755122e-16\n"
     ]
    }
   ],
   "source": [
    "# Standardize wine data if not already standardized\n",
    "if not is_wine_standardized:\n",
    "  scaler = StandardScaler()\n",
    "  wine_features_scaled = scaler.fit_transform(wine_features)  # Standardize features\n",
    "\n",
    "print(f\"std - {wine_features_scaled.std()}\")\n",
    "print(f\"std - {wine_features_scaled.mean()}\")"
   ]
  },
  {
   "cell_type": "code",
   "execution_count": 24,
   "metadata": {},
   "outputs": [],
   "source": [
    "# Load the Iris dataset\n",
    "iris_data = load_iris()\n",
    "iris_features = iris_data.data  # Features (attributes)\n",
    "iris_target = iris_data.target  # Target labels"
   ]
  },
  {
   "cell_type": "code",
   "execution_count": 25,
   "metadata": {},
   "outputs": [
    {
     "name": "stdout",
     "output_type": "stream",
     "text": [
      "Iris data standardized: False\n"
     ]
    }
   ],
   "source": [
    "is_iris_standardized = all(abs(np.mean(col)) < 1e-3 and abs(np.std(col) - 1) < 1e-3 for col in iris_features.T)\n",
    "print(\"Iris data standardized:\", is_iris_standardized)"
   ]
  },
  {
   "cell_type": "code",
   "execution_count": 27,
   "metadata": {},
   "outputs": [
    {
     "name": "stdout",
     "output_type": "stream",
     "text": [
      "std - 1.0\n",
      "mean - -1.4684549872375404e-15\n"
     ]
    }
   ],
   "source": [
    "if not is_iris_standardized:\n",
    "  scaler = StandardScaler()\n",
    "  iris_features_scaled = scaler.fit_transform(iris_features)  # Standardize features\n",
    "\n",
    "print(f\"std - {iris_features_scaled.std()}\")\n",
    "print(f\"mean - {iris_features_scaled.mean()}\")"
   ]
  }
 ],
 "metadata": {
  "kernelspec": {
   "display_name": "Python 3",
   "language": "python",
   "name": "python3"
  },
  "language_info": {
   "codemirror_mode": {
    "name": "ipython",
    "version": 3
   },
   "file_extension": ".py",
   "mimetype": "text/x-python",
   "name": "python",
   "nbconvert_exporter": "python",
   "pygments_lexer": "ipython3",
   "version": "3.10.0"
  }
 },
 "nbformat": 4,
 "nbformat_minor": 2
}
