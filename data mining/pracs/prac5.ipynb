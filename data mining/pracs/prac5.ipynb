{
 "cells": [
  {
   "cell_type": "code",
   "execution_count": 56,
   "metadata": {},
   "outputs": [],
   "source": [
    "import pandas as pd\n",
    "import numpy as np\n",
    "import matplotlib.pyplot as plt\n",
    "from sklearn.metrics import accuracy_score, confusion_matrix\n",
    "from sklearn.tree import DecisionTreeClassifier\n",
    "from sklearn.naive_bayes import GaussianNB\n",
    "from sklearn.neighbors import KNeighborsClassifier\n",
    "from sklearn.model_selection import train_test_split, StratifiedKFold\n",
    "from sklearn.preprocessing import StandardScaler, OneHotEncoder, LabelEncoder\n",
    "from sklearn.datasets import load_iris"
   ]
  },
  {
   "cell_type": "code",
   "execution_count": 57,
   "metadata": {},
   "outputs": [],
   "source": [
    "iris = load_iris()\n",
    "X, y = iris.data, iris.target\n",
    "df = pd.DataFrame(X, columns=iris.feature_names)\n",
    "\n",
    "sc = StandardScaler()\n",
    "X_Scaled = sc.fit_transform(X)"
   ]
  },
  {
   "cell_type": "code",
   "execution_count": 58,
   "metadata": {},
   "outputs": [],
   "source": [
    "# classifiers instance\n",
    "def model_test_run(model_instance, model_name, x_train, x_test, y_train, y_test):\n",
    "    padding = 2\n",
    "    # print(\"\\n\"*padding)\n",
    "    classifier = model_instance()\n",
    "    classifier.fit(x_train, y_train)\n",
    "    y_pred = classifier.predict(x_test)\n",
    "\n",
    "    score = accuracy_score(y_test, y_pred)\n",
    "    c_mat = confusion_matrix(y_test, y_pred)\n",
    "    print(f\"score for {model_name} is :- \\n\")\n",
    "    print(f\"score :- {score*100:.2f}%\")\n",
    "    print(f\"confusion matrix :- \\n{c_mat}\")\n",
    "\n",
    "    print(\"\\n\" * padding)\n",
    "\n",
    "    return score, c_mat\n",
    "\n",
    "\n",
    "models = [\n",
    "    (\"decision tree\", DecisionTreeClassifier),\n",
    "    (\"naive bayes\", GaussianNB),\n",
    "    (\"knn\", KNeighborsClassifier),\n",
    "]"
   ]
  },
  {
   "cell_type": "code",
   "execution_count": 59,
   "metadata": {},
   "outputs": [
    {
     "name": "stdout",
     "output_type": "stream",
     "text": [
      "score for decision tree is :- \n",
      "\n",
      "score :- 97.37%\n",
      "confusion matrix :- \n",
      "[[11  0  0]\n",
      " [ 0 15  0]\n",
      " [ 0  1 11]]\n",
      "\n",
      "\n",
      "\n",
      "score for naive bayes is :- \n",
      "\n",
      "score :- 100.00%\n",
      "confusion matrix :- \n",
      "[[11  0  0]\n",
      " [ 0 15  0]\n",
      " [ 0  0 12]]\n",
      "\n",
      "\n",
      "\n",
      "score for knn is :- \n",
      "\n",
      "score :- 97.37%\n",
      "confusion matrix :- \n",
      "[[11  0  0]\n",
      " [ 0 14  1]\n",
      " [ 0  0 12]]\n",
      "\n",
      "\n",
      "\n"
     ]
    }
   ],
   "source": [
    "# hold out method for 75-25 train test split\n",
    "\n",
    "for model_name, model_instance in models:\n",
    "    X_train, y_train, X_test, y_test = None, None, None, None\n",
    "    if model_name != \"knn\":\n",
    "\n",
    "        X_train, y_train, X_test, y_test = train_test_split(\n",
    "            X, y, test_size=0.25, random_state=10\n",
    "        )\n",
    "\n",
    "    else:\n",
    "        X_train, y_train, X_test, y_test = train_test_split(\n",
    "            X_Scaled, y, test_size=0.25, random_state=10\n",
    "        )\n",
    "    # print(X_train, X_test, y_train, y_test)\n",
    "    score, c_mat = model_test_run(\n",
    "        model_instance, model_name, X_train, y_train, X_test, y_test\n",
    "    )"
   ]
  },
  {
   "cell_type": "code",
   "execution_count": 60,
   "metadata": {},
   "outputs": [
    {
     "name": "stdout",
     "output_type": "stream",
     "text": [
      "score for decision tree is :- \n",
      "\n",
      "score :- 90.00%\n",
      "confusion matrix :- \n",
      "[[15  0  0]\n",
      " [ 0 15  4]\n",
      " [ 0  1 15]]\n",
      "\n",
      "\n",
      "\n",
      "score for naive bayes is :- \n",
      "\n",
      "score :- 94.00%\n",
      "confusion matrix :- \n",
      "[[15  0  0]\n",
      " [ 0 16  3]\n",
      " [ 0  0 16]]\n",
      "\n",
      "\n",
      "\n",
      "score for knn is :- \n",
      "\n",
      "score :- 94.00%\n",
      "confusion matrix :- \n",
      "[[15  0  0]\n",
      " [ 0 16  3]\n",
      " [ 0  0 16]]\n",
      "\n",
      "\n",
      "\n"
     ]
    }
   ],
   "source": [
    "# hold out method for 66-33 train test split\n",
    "\n",
    "for model_name, model_instance in models:\n",
    "    X_train, y_train, X_test, y_test = None, None, None, None\n",
    "    if model_name != \"knn\":\n",
    "\n",
    "        X_train, y_train, X_test, y_test = train_test_split(\n",
    "            X, y, test_size=0.33, random_state=10\n",
    "        )\n",
    "\n",
    "    else:\n",
    "        X_train, y_train, X_test, y_test = train_test_split(\n",
    "            X_Scaled, y, test_size=0.33, random_state=10\n",
    "        )\n",
    "    # print(X_train, X_test, y_train, y_test)\n",
    "    score, c_mat = model_test_run(\n",
    "        model_instance, model_name, X_train, y_train, X_test, y_test\n",
    "    )"
   ]
  },
  {
   "cell_type": "code",
   "execution_count": null,
   "metadata": {},
   "outputs": [],
   "source": [
    "# 75-25 split in Cross Validation"
   ]
  }
 ],
 "metadata": {
  "kernelspec": {
   "display_name": "Python 3",
   "language": "python",
   "name": "python3"
  },
  "language_info": {
   "codemirror_mode": {
    "name": "ipython",
    "version": 3
   },
   "file_extension": ".py",
   "mimetype": "text/x-python",
   "name": "python",
   "nbconvert_exporter": "python",
   "pygments_lexer": "ipython3",
   "version": "3.10.0"
  }
 },
 "nbformat": 4,
 "nbformat_minor": 2
}
